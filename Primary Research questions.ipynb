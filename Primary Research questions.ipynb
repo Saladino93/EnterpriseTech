{
 "cells": [
  {
   "cell_type": "markdown",
   "metadata": {},
   "source": [
    "# Primary research questions"
   ]
  },
  {
   "cell_type": "markdown",
   "metadata": {},
   "source": [
    "## Questions to competitors\n",
    "\n",
    "* TESTS PERFORMED BY MANUFACTURERS\n",
    "* Fire retardant certificates and tests done by competition\n",
    "* ENVIRONMENTAL POLLUTION AS A CONSEQUENCE OF FIRE (remember case of formaldehyde for wood OSB)\n",
    "* Dimensional change of panels as a consequence of panel moisture content, temperature, etc...\n",
    "* How are they moving with Brexit, for standardisation?\n",
    "* Difficulties encountered by environmental/general groups. Which ones are attacking them? Why? How are they replying?\n",
    "* To gypsum people: cons and pro of them, vs cement boards, wood boards\n",
    "* To cement people: cons and pro of them, vs gypsum boards, wood boards\n",
    "* To wood people: cons and pro of them, vs gypsum boards, cement boards\n",
    "* DOPs, as for example\n",
    "\n",
    "\n",
    "<hr>\n",
    "\n",
    "### Someone extra\n",
    "\n",
    "* The 'spontaneous ignition temperature' is the temperature at which these vapours ignite spontaneously without  the application of an external flame.\n",
    "* Dust\n",
    "\n"
   ]
  },
  {
   "cell_type": "markdown",
   "metadata": {},
   "source": [
    "## Others\n",
    "### * All defects of cambond boards\n",
    "\n",
    "Also, see this:\n",
    "\n",
    "* Understand this: Fire resistance is measured in minutes. This relates to time elapsed in a standard test and should not be confused with real time."
   ]
  },
  {
   "cell_type": "code",
   "execution_count": null,
   "metadata": {},
   "outputs": [],
   "source": []
  }
 ],
 "metadata": {
  "kernelspec": {
   "display_name": "Python 3",
   "language": "python",
   "name": "python3"
  },
  "language_info": {
   "codemirror_mode": {
    "name": "ipython",
    "version": 3
   },
   "file_extension": ".py",
   "mimetype": "text/x-python",
   "name": "python",
   "nbconvert_exporter": "python",
   "pygments_lexer": "ipython3",
   "version": "3.7.6"
  }
 },
 "nbformat": 4,
 "nbformat_minor": 4
}
