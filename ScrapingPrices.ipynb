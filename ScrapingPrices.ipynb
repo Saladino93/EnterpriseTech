{
 "cells": [
  {
   "cell_type": "code",
   "execution_count": 91,
   "metadata": {},
   "outputs": [],
   "source": [
    "import requests"
   ]
  },
  {
   "cell_type": "code",
   "execution_count": 2,
   "metadata": {},
   "outputs": [],
   "source": [
    "from bs4 import BeautifulSoup"
   ]
  },
  {
   "cell_type": "code",
   "execution_count": 1,
   "metadata": {},
   "outputs": [],
   "source": [
    "import pandas as pd"
   ]
  },
  {
   "cell_type": "code",
   "execution_count": 59,
   "metadata": {},
   "outputs": [],
   "source": [
    "import re"
   ]
  },
  {
   "cell_type": "markdown",
   "metadata": {},
   "source": [
    "## FROM buildingmaterials.co.uk"
   ]
  },
  {
   "cell_type": "code",
   "execution_count": 190,
   "metadata": {},
   "outputs": [],
   "source": [
    "baseurl = 'https://www.buildingmaterials.co.uk/'"
   ]
  },
  {
   "cell_type": "code",
   "execution_count": 5,
   "metadata": {},
   "outputs": [],
   "source": [
    "url = 'https://www.buildingmaterials.co.uk/plasterboard/plasterboard/fire-resistant?product_list_limit=48'"
   ]
  },
  {
   "cell_type": "code",
   "execution_count": 7,
   "metadata": {
    "scrolled": false
   },
   "outputs": [],
   "source": [
    "page = requests.get(url)"
   ]
  },
  {
   "cell_type": "code",
   "execution_count": 8,
   "metadata": {},
   "outputs": [],
   "source": [
    "soup = BeautifulSoup(page.content, 'html.parser')"
   ]
  },
  {
   "cell_type": "code",
   "execution_count": 178,
   "metadata": {},
   "outputs": [],
   "source": [
    "results = soup.find(id = 'maincontent')"
   ]
  },
  {
   "cell_type": "code",
   "execution_count": 179,
   "metadata": {},
   "outputs": [],
   "source": [
    "products = results.find_all('img', class_ = 'product-image-photo')"
   ]
  },
  {
   "cell_type": "code",
   "execution_count": 182,
   "metadata": {},
   "outputs": [],
   "source": [
    "allurls = results.find_all('div', class_ = 'product-lg-top__right')"
   ]
  },
  {
   "cell_type": "code",
   "execution_count": 15,
   "metadata": {},
   "outputs": [],
   "source": [
    "prices = results.find_all('span', class_ = 'price')"
   ]
  },
  {
   "cell_type": "code",
   "execution_count": 204,
   "metadata": {},
   "outputs": [
    {
     "data": {
      "text/plain": [
       "2.88"
      ]
     },
     "execution_count": 204,
     "metadata": {},
     "output_type": "execute_result"
    }
   ],
   "source": [
    "area"
   ]
  },
  {
   "cell_type": "code",
   "execution_count": 205,
   "metadata": {
    "scrolled": false
   },
   "outputs": [
    {
     "name": "stdout",
     "output_type": "stream",
     "text": [
      "British Gypsum GYPROC Fireline Duplex\n",
      "['2400', '1200', '12.5', 'TEPalletof60(2.88m2)']\n",
      "British Gypsum GYPROC Fireline MR\n",
      "['3000', '1200', '12.5', 'TE(3.6m2)']\n",
      "GTEC Fire Board\n",
      "['1800', '900', '12.5', 'SE(1.62m2)']\n",
      "GTEC Fire Board\n",
      "['1800', '900', '12.5', 'TE(1.62m2)']\n",
      "GTEC Fire Board\n",
      "['1800', '900', '15', 'TE(1.62m2)']\n",
      "GTEC Fire Board\n",
      "['2400', '1200', '12.5', 'SE(2.88m2)']\n",
      "GTEC Fire Board\n",
      "['2400', '1200', '12.5', 'TE(2.88m2)']\n",
      "GTEC Fire Board\n",
      "['2400', '1200', '15', 'TE(2.88m2)']\n",
      "GTEC Fire Board\n",
      "['2700', '1200', '12.5', 'TE(3.24m2)']\n",
      "GTEC Fire Board\n",
      "['2700', '1200', '15', 'TE(3.24m2)']\n",
      "GTEC Fire Board\n",
      "['3000', '1200', '12.5', 'TE(3.6m2)']\n",
      "GTEC Fire Board\n",
      "['3000', '1200', '15', 'TE(3.6m2)']\n",
      "GTEC Fire Core Board\n",
      "['3000', '600', '19', 'SE(1.8m2)']\n",
      "GTEC Fire MR Board\n",
      "['2400', '1200', '12.5', 'TE(2.88m2)']\n",
      "GTEC Fire MR Board\n",
      "['2400', '1200', '15', 'TE(2.88m2)']\n",
      "GTEC Fire MR Board\n",
      "['3000', '1200', '15', 'TE(3.6m2)']\n",
      "GTEC Fire V Board\n",
      "['2400', '1200', '12.5', 'TE(2.88m2)']\n",
      "GTEC Fire V Board\n",
      "['2400', '1200', '15', 'TE(2.88m2)']\n",
      "GTEC LaDura\n",
      "['2400', '1200', '12.5', 'TE(2.88m2)']\n",
      "GTEC LaDura\n",
      "['2400', '1200', '15', 'TE(2.88m2)']\n",
      "GTEC LaDura\n",
      "['3000', '1200', '12.5', 'TE(3.6m2)']\n",
      "GTEC LaDura\n",
      "['3000', '1200', '15', 'TE(3.6m2)']\n",
      "GTEC Megadeco\n",
      "['2400', '1200', '12.5', 'TE(2.88m2)']\n",
      "GTEC Megadeco\n",
      "['2400', '1200', '15', 'TE(2.88m2)']\n",
      "GTEC Megadeco\n",
      "['2700', '1200', '12.5', 'TE(3.24m2)']\n",
      "GTEC Megadeco\n",
      "['2700', '1200', '15', 'TE(3.24m2)']\n",
      "GTEC Megadeco\n",
      "['3000', '1200', '12.5', 'TE(3.6m2)']\n",
      "GTEC Megadeco\n",
      "['3000', '1200', '15', 'TE(3.6m2)']\n",
      "GTEC Universal Board\n",
      "['2400', '1200', '12.5', 'TE(2.88m2)']\n",
      "GTEC Universal Board\n",
      "['2400', '1200', '15', 'TE(2.88m2)']\n",
      "GTEC Universal Board\n",
      "['2700', '1200', '15', 'TE(3.24m2)']\n",
      "GTEC Universal Board\n",
      "['3000', '1200', '12.5', 'TE(3.6m2)']\n",
      "GTEC Universal Board\n",
      "['3000', '1200', '15', 'TE(3.6m2)']\n",
      "Knauf Fire Panel\n",
      "['1800', '900', '12.5', 'SE(1.62m2)']\n",
      "Knauf Fire Panel\n",
      "['2400', '1200', '12.5', 'TE(2.88m2)']\n",
      "Knauf Fire Panel\n",
      "['2400', '1200', '15', 'TE(2.88m2)']\n",
      "\u001b[31m Skipped Fireproof Plasterboard 12.5mm\u001b[0m\n",
      "\u001b[31m Skipped Fireproof Plasterboard 15mm\u001b[0m\n",
      "\u001b[31m Skipped British Gypsum Gyproc Fireline Plasterboard 12.5mm\u001b[0m\n",
      "\u001b[31m Skipped British Gypsum Gyproc Fireline Plasterboard 15mm\u001b[0m\n",
      "Knauf Fire Panel\n",
      "['2400', '1200', '12.5', 'SE(2.88m2)']\n"
     ]
    }
   ],
   "source": [
    "names = []\n",
    "pricesnovat = []\n",
    "pricesvat = []\n",
    "lengths = []\n",
    "widths = []\n",
    "thicknesses = []\n",
    "edgetypes = []\n",
    "areas = []\n",
    "\n",
    "\n",
    "extras = []\n",
    "links = []\n",
    "\n",
    "for i, img in enumerate(products):\n",
    "    name = img['alt']\n",
    "    nome = re.findall(r'(^[^\\d]+)', name)[0][:-1]\n",
    "    stringa = name.replace(nome, '')\n",
    "    dimensions = stringa.replace(\" \", \"\").replace('x', '').split('mm')\n",
    "    \n",
    "    if len(dimensions) == 4:\n",
    "        print(nome)#, 'noVAT', prices[2*i].text, 'VAT', prices[2*i+1].text)\n",
    "        print(dimensions)\n",
    "        last = dimensions[-1]\n",
    "        \n",
    "        tipo = last.split('(')[0]\n",
    "        area = float(last.split('(')[1].split('m2)')[0])\n",
    "        \n",
    "        edgetypes += [tipo]\n",
    "        areas += [area]\n",
    "        \n",
    "        \n",
    "        names += [nome]\n",
    "        pricesnovat += [float(prices[2*i].text.replace('£', '').replace(',', ''))]\n",
    "        pricesvat += [float(prices[2*i+1].text.replace('£', '').replace(',', ''))]\n",
    "        lengths += [float(dimensions[0])]\n",
    "        widths += [float(dimensions[1])]\n",
    "        thicknesses += [float(dimensions[2])]\n",
    "        links += [baseurl+allurls[i].find('a', class_ = \"product-item-link\")['href']]\n",
    "    else:\n",
    "        print(f\"\\x1b[31m Skipped {name}\\x1b[0m\")\n",
    "    "
   ]
  },
  {
   "cell_type": "code",
   "execution_count": 209,
   "metadata": {},
   "outputs": [],
   "source": [
    "d = {'Name': names, 'Length (mm)': lengths, 'Width (mm)': widths, 'Thickness (mm)':thicknesses, 'Area (m^2)': areas,\n",
    "    'Edge type': edgetypes, 'Price No VAT (£)': pricesnovat, 'Price VAT (£)': pricesvat, 'Link': links}\n",
    "#, 'Edge Type': \n",
    "#    Area: }\n",
    "df = pd.DataFrame(data = d)"
   ]
  },
  {
   "cell_type": "code",
   "execution_count": 212,
   "metadata": {},
   "outputs": [],
   "source": [
    "df.to_csv('scrapedv0')"
   ]
  },
  {
   "cell_type": "code",
   "execution_count": 210,
   "metadata": {},
   "outputs": [
    {
     "data": {
      "text/html": [
       "<div>\n",
       "<style scoped>\n",
       "    .dataframe tbody tr th:only-of-type {\n",
       "        vertical-align: middle;\n",
       "    }\n",
       "\n",
       "    .dataframe tbody tr th {\n",
       "        vertical-align: top;\n",
       "    }\n",
       "\n",
       "    .dataframe thead th {\n",
       "        text-align: right;\n",
       "    }\n",
       "</style>\n",
       "<table border=\"1\" class=\"dataframe\">\n",
       "  <thead>\n",
       "    <tr style=\"text-align: right;\">\n",
       "      <th></th>\n",
       "      <th>Name</th>\n",
       "      <th>Length (mm)</th>\n",
       "      <th>Width (mm)</th>\n",
       "      <th>Thickness (mm)</th>\n",
       "      <th>Area (m^2)</th>\n",
       "      <th>Edge type</th>\n",
       "      <th>Price No VAT (£)</th>\n",
       "      <th>Price VAT (£)</th>\n",
       "      <th>Link</th>\n",
       "    </tr>\n",
       "  </thead>\n",
       "  <tbody>\n",
       "    <tr>\n",
       "      <th>0</th>\n",
       "      <td>British Gypsum GYPROC Fireline Duplex</td>\n",
       "      <td>2400.0</td>\n",
       "      <td>1200.0</td>\n",
       "      <td>12.5</td>\n",
       "      <td>2.88</td>\n",
       "      <td>TEPalletof60</td>\n",
       "      <td>948.28</td>\n",
       "      <td>1137.94</td>\n",
       "      <td>https://www.buildingmaterials.co.uk//british-g...</td>\n",
       "    </tr>\n",
       "    <tr>\n",
       "      <th>1</th>\n",
       "      <td>British Gypsum GYPROC Fireline MR</td>\n",
       "      <td>3000.0</td>\n",
       "      <td>1200.0</td>\n",
       "      <td>12.5</td>\n",
       "      <td>3.60</td>\n",
       "      <td>TE</td>\n",
       "      <td>24.88</td>\n",
       "      <td>29.86</td>\n",
       "      <td>https://www.buildingmaterials.co.uk//british-g...</td>\n",
       "    </tr>\n",
       "    <tr>\n",
       "      <th>2</th>\n",
       "      <td>GTEC Fire Board</td>\n",
       "      <td>1800.0</td>\n",
       "      <td>900.0</td>\n",
       "      <td>12.5</td>\n",
       "      <td>1.62</td>\n",
       "      <td>SE</td>\n",
       "      <td>7.23</td>\n",
       "      <td>8.68</td>\n",
       "      <td>https://www.buildingmaterials.co.uk//gtec-fire...</td>\n",
       "    </tr>\n",
       "    <tr>\n",
       "      <th>3</th>\n",
       "      <td>GTEC Fire Board</td>\n",
       "      <td>1800.0</td>\n",
       "      <td>900.0</td>\n",
       "      <td>12.5</td>\n",
       "      <td>1.62</td>\n",
       "      <td>TE</td>\n",
       "      <td>7.23</td>\n",
       "      <td>8.68</td>\n",
       "      <td>https://www.buildingmaterials.co.uk//gtec-fire...</td>\n",
       "    </tr>\n",
       "    <tr>\n",
       "      <th>4</th>\n",
       "      <td>GTEC Fire Board</td>\n",
       "      <td>1800.0</td>\n",
       "      <td>900.0</td>\n",
       "      <td>15.0</td>\n",
       "      <td>1.62</td>\n",
       "      <td>TE</td>\n",
       "      <td>8.68</td>\n",
       "      <td>10.42</td>\n",
       "      <td>https://www.buildingmaterials.co.uk//gtec-fire...</td>\n",
       "    </tr>\n",
       "    <tr>\n",
       "      <th>5</th>\n",
       "      <td>GTEC Fire Board</td>\n",
       "      <td>2400.0</td>\n",
       "      <td>1200.0</td>\n",
       "      <td>12.5</td>\n",
       "      <td>2.88</td>\n",
       "      <td>SE</td>\n",
       "      <td>10.32</td>\n",
       "      <td>12.38</td>\n",
       "      <td>https://www.buildingmaterials.co.uk//gtec-fire...</td>\n",
       "    </tr>\n",
       "    <tr>\n",
       "      <th>6</th>\n",
       "      <td>GTEC Fire Board</td>\n",
       "      <td>2400.0</td>\n",
       "      <td>1200.0</td>\n",
       "      <td>12.5</td>\n",
       "      <td>2.88</td>\n",
       "      <td>TE</td>\n",
       "      <td>10.32</td>\n",
       "      <td>12.38</td>\n",
       "      <td>https://www.buildingmaterials.co.uk//gtec-fire...</td>\n",
       "    </tr>\n",
       "    <tr>\n",
       "      <th>7</th>\n",
       "      <td>GTEC Fire Board</td>\n",
       "      <td>2400.0</td>\n",
       "      <td>1200.0</td>\n",
       "      <td>15.0</td>\n",
       "      <td>2.88</td>\n",
       "      <td>TE</td>\n",
       "      <td>12.17</td>\n",
       "      <td>14.60</td>\n",
       "      <td>https://www.buildingmaterials.co.uk//gtec-fire...</td>\n",
       "    </tr>\n",
       "    <tr>\n",
       "      <th>8</th>\n",
       "      <td>GTEC Fire Board</td>\n",
       "      <td>2700.0</td>\n",
       "      <td>1200.0</td>\n",
       "      <td>12.5</td>\n",
       "      <td>3.24</td>\n",
       "      <td>TE</td>\n",
       "      <td>11.62</td>\n",
       "      <td>13.94</td>\n",
       "      <td>https://www.buildingmaterials.co.uk//gtec-fire...</td>\n",
       "    </tr>\n",
       "    <tr>\n",
       "      <th>9</th>\n",
       "      <td>GTEC Fire Board</td>\n",
       "      <td>2700.0</td>\n",
       "      <td>1200.0</td>\n",
       "      <td>15.0</td>\n",
       "      <td>3.24</td>\n",
       "      <td>TE</td>\n",
       "      <td>13.69</td>\n",
       "      <td>16.43</td>\n",
       "      <td>https://www.buildingmaterials.co.uk//gtec-fire...</td>\n",
       "    </tr>\n",
       "    <tr>\n",
       "      <th>10</th>\n",
       "      <td>GTEC Fire Board</td>\n",
       "      <td>3000.0</td>\n",
       "      <td>1200.0</td>\n",
       "      <td>12.5</td>\n",
       "      <td>3.60</td>\n",
       "      <td>TE</td>\n",
       "      <td>12.90</td>\n",
       "      <td>15.48</td>\n",
       "      <td>https://www.buildingmaterials.co.uk//gtec-fire...</td>\n",
       "    </tr>\n",
       "    <tr>\n",
       "      <th>11</th>\n",
       "      <td>GTEC Fire Board</td>\n",
       "      <td>3000.0</td>\n",
       "      <td>1200.0</td>\n",
       "      <td>15.0</td>\n",
       "      <td>3.60</td>\n",
       "      <td>TE</td>\n",
       "      <td>15.21</td>\n",
       "      <td>18.25</td>\n",
       "      <td>https://www.buildingmaterials.co.uk//gtec-fire...</td>\n",
       "    </tr>\n",
       "    <tr>\n",
       "      <th>12</th>\n",
       "      <td>GTEC Fire Core Board</td>\n",
       "      <td>3000.0</td>\n",
       "      <td>600.0</td>\n",
       "      <td>19.0</td>\n",
       "      <td>1.80</td>\n",
       "      <td>SE</td>\n",
       "      <td>78.11</td>\n",
       "      <td>93.73</td>\n",
       "      <td>https://www.buildingmaterials.co.uk//gtec-fire...</td>\n",
       "    </tr>\n",
       "    <tr>\n",
       "      <th>13</th>\n",
       "      <td>GTEC Fire MR Board</td>\n",
       "      <td>2400.0</td>\n",
       "      <td>1200.0</td>\n",
       "      <td>12.5</td>\n",
       "      <td>2.88</td>\n",
       "      <td>TE</td>\n",
       "      <td>14.24</td>\n",
       "      <td>17.09</td>\n",
       "      <td>https://www.buildingmaterials.co.uk//gtec-fire...</td>\n",
       "    </tr>\n",
       "    <tr>\n",
       "      <th>14</th>\n",
       "      <td>GTEC Fire MR Board</td>\n",
       "      <td>2400.0</td>\n",
       "      <td>1200.0</td>\n",
       "      <td>15.0</td>\n",
       "      <td>2.88</td>\n",
       "      <td>TE</td>\n",
       "      <td>17.74</td>\n",
       "      <td>21.29</td>\n",
       "      <td>https://www.buildingmaterials.co.uk//gtec-fire...</td>\n",
       "    </tr>\n",
       "    <tr>\n",
       "      <th>15</th>\n",
       "      <td>GTEC Fire MR Board</td>\n",
       "      <td>3000.0</td>\n",
       "      <td>1200.0</td>\n",
       "      <td>15.0</td>\n",
       "      <td>3.60</td>\n",
       "      <td>TE</td>\n",
       "      <td>22.18</td>\n",
       "      <td>26.62</td>\n",
       "      <td>https://www.buildingmaterials.co.uk//gtec-fire...</td>\n",
       "    </tr>\n",
       "    <tr>\n",
       "      <th>16</th>\n",
       "      <td>GTEC Fire V Board</td>\n",
       "      <td>2400.0</td>\n",
       "      <td>1200.0</td>\n",
       "      <td>12.5</td>\n",
       "      <td>2.88</td>\n",
       "      <td>TE</td>\n",
       "      <td>17.46</td>\n",
       "      <td>20.95</td>\n",
       "      <td>https://www.buildingmaterials.co.uk//gtec-fire...</td>\n",
       "    </tr>\n",
       "    <tr>\n",
       "      <th>17</th>\n",
       "      <td>GTEC Fire V Board</td>\n",
       "      <td>2400.0</td>\n",
       "      <td>1200.0</td>\n",
       "      <td>15.0</td>\n",
       "      <td>2.88</td>\n",
       "      <td>TE</td>\n",
       "      <td>19.19</td>\n",
       "      <td>23.03</td>\n",
       "      <td>https://www.buildingmaterials.co.uk//gtec-fire...</td>\n",
       "    </tr>\n",
       "    <tr>\n",
       "      <th>18</th>\n",
       "      <td>GTEC LaDura</td>\n",
       "      <td>2400.0</td>\n",
       "      <td>1200.0</td>\n",
       "      <td>12.5</td>\n",
       "      <td>2.88</td>\n",
       "      <td>TE</td>\n",
       "      <td>41.50</td>\n",
       "      <td>49.80</td>\n",
       "      <td>https://www.buildingmaterials.co.uk//gtec-ladu...</td>\n",
       "    </tr>\n",
       "    <tr>\n",
       "      <th>19</th>\n",
       "      <td>GTEC LaDura</td>\n",
       "      <td>2400.0</td>\n",
       "      <td>1200.0</td>\n",
       "      <td>15.0</td>\n",
       "      <td>2.88</td>\n",
       "      <td>TE</td>\n",
       "      <td>55.08</td>\n",
       "      <td>66.10</td>\n",
       "      <td>https://www.buildingmaterials.co.uk//gtec-ladu...</td>\n",
       "    </tr>\n",
       "    <tr>\n",
       "      <th>20</th>\n",
       "      <td>GTEC LaDura</td>\n",
       "      <td>3000.0</td>\n",
       "      <td>1200.0</td>\n",
       "      <td>12.5</td>\n",
       "      <td>3.60</td>\n",
       "      <td>TE</td>\n",
       "      <td>51.86</td>\n",
       "      <td>62.23</td>\n",
       "      <td>https://www.buildingmaterials.co.uk//gtec-ladu...</td>\n",
       "    </tr>\n",
       "    <tr>\n",
       "      <th>21</th>\n",
       "      <td>GTEC LaDura</td>\n",
       "      <td>3000.0</td>\n",
       "      <td>1200.0</td>\n",
       "      <td>15.0</td>\n",
       "      <td>3.60</td>\n",
       "      <td>TE</td>\n",
       "      <td>68.85</td>\n",
       "      <td>82.62</td>\n",
       "      <td>https://www.buildingmaterials.co.uk//gtec-ladu...</td>\n",
       "    </tr>\n",
       "    <tr>\n",
       "      <th>22</th>\n",
       "      <td>GTEC Megadeco</td>\n",
       "      <td>2400.0</td>\n",
       "      <td>1200.0</td>\n",
       "      <td>12.5</td>\n",
       "      <td>2.88</td>\n",
       "      <td>TE</td>\n",
       "      <td>20.29</td>\n",
       "      <td>24.35</td>\n",
       "      <td>https://www.buildingmaterials.co.uk//gtec-mega...</td>\n",
       "    </tr>\n",
       "    <tr>\n",
       "      <th>23</th>\n",
       "      <td>GTEC Megadeco</td>\n",
       "      <td>2400.0</td>\n",
       "      <td>1200.0</td>\n",
       "      <td>15.0</td>\n",
       "      <td>2.88</td>\n",
       "      <td>TE</td>\n",
       "      <td>24.23</td>\n",
       "      <td>29.08</td>\n",
       "      <td>https://www.buildingmaterials.co.uk//gtec-mega...</td>\n",
       "    </tr>\n",
       "    <tr>\n",
       "      <th>24</th>\n",
       "      <td>GTEC Megadeco</td>\n",
       "      <td>2700.0</td>\n",
       "      <td>1200.0</td>\n",
       "      <td>12.5</td>\n",
       "      <td>3.24</td>\n",
       "      <td>TE</td>\n",
       "      <td>22.82</td>\n",
       "      <td>27.38</td>\n",
       "      <td>https://www.buildingmaterials.co.uk//gtec-mega...</td>\n",
       "    </tr>\n",
       "    <tr>\n",
       "      <th>25</th>\n",
       "      <td>GTEC Megadeco</td>\n",
       "      <td>2700.0</td>\n",
       "      <td>1200.0</td>\n",
       "      <td>15.0</td>\n",
       "      <td>3.24</td>\n",
       "      <td>TE</td>\n",
       "      <td>27.26</td>\n",
       "      <td>32.71</td>\n",
       "      <td>https://www.buildingmaterials.co.uk//gtec-mega...</td>\n",
       "    </tr>\n",
       "    <tr>\n",
       "      <th>26</th>\n",
       "      <td>GTEC Megadeco</td>\n",
       "      <td>3000.0</td>\n",
       "      <td>1200.0</td>\n",
       "      <td>12.5</td>\n",
       "      <td>3.60</td>\n",
       "      <td>TE</td>\n",
       "      <td>25.35</td>\n",
       "      <td>30.42</td>\n",
       "      <td>https://www.buildingmaterials.co.uk//gtec-mega...</td>\n",
       "    </tr>\n",
       "    <tr>\n",
       "      <th>27</th>\n",
       "      <td>GTEC Megadeco</td>\n",
       "      <td>3000.0</td>\n",
       "      <td>1200.0</td>\n",
       "      <td>15.0</td>\n",
       "      <td>3.60</td>\n",
       "      <td>TE</td>\n",
       "      <td>30.30</td>\n",
       "      <td>36.36</td>\n",
       "      <td>https://www.buildingmaterials.co.uk//gtec-mega...</td>\n",
       "    </tr>\n",
       "    <tr>\n",
       "      <th>28</th>\n",
       "      <td>GTEC Universal Board</td>\n",
       "      <td>2400.0</td>\n",
       "      <td>1200.0</td>\n",
       "      <td>12.5</td>\n",
       "      <td>2.88</td>\n",
       "      <td>TE</td>\n",
       "      <td>13.35</td>\n",
       "      <td>16.02</td>\n",
       "      <td>https://www.buildingmaterials.co.uk//gtec-univ...</td>\n",
       "    </tr>\n",
       "    <tr>\n",
       "      <th>29</th>\n",
       "      <td>GTEC Universal Board</td>\n",
       "      <td>2400.0</td>\n",
       "      <td>1200.0</td>\n",
       "      <td>15.0</td>\n",
       "      <td>2.88</td>\n",
       "      <td>TE</td>\n",
       "      <td>18.57</td>\n",
       "      <td>22.28</td>\n",
       "      <td>https://www.buildingmaterials.co.uk//gtec-univ...</td>\n",
       "    </tr>\n",
       "    <tr>\n",
       "      <th>30</th>\n",
       "      <td>GTEC Universal Board</td>\n",
       "      <td>2700.0</td>\n",
       "      <td>1200.0</td>\n",
       "      <td>15.0</td>\n",
       "      <td>3.24</td>\n",
       "      <td>TE</td>\n",
       "      <td>20.89</td>\n",
       "      <td>25.07</td>\n",
       "      <td>https://www.buildingmaterials.co.uk//gtec-univ...</td>\n",
       "    </tr>\n",
       "    <tr>\n",
       "      <th>31</th>\n",
       "      <td>GTEC Universal Board</td>\n",
       "      <td>3000.0</td>\n",
       "      <td>1200.0</td>\n",
       "      <td>12.5</td>\n",
       "      <td>3.60</td>\n",
       "      <td>TE</td>\n",
       "      <td>16.70</td>\n",
       "      <td>20.04</td>\n",
       "      <td>https://www.buildingmaterials.co.uk//gtec-univ...</td>\n",
       "    </tr>\n",
       "    <tr>\n",
       "      <th>32</th>\n",
       "      <td>GTEC Universal Board</td>\n",
       "      <td>3000.0</td>\n",
       "      <td>1200.0</td>\n",
       "      <td>15.0</td>\n",
       "      <td>3.60</td>\n",
       "      <td>TE</td>\n",
       "      <td>23.21</td>\n",
       "      <td>27.85</td>\n",
       "      <td>https://www.buildingmaterials.co.uk//gtec-univ...</td>\n",
       "    </tr>\n",
       "    <tr>\n",
       "      <th>33</th>\n",
       "      <td>Knauf Fire Panel</td>\n",
       "      <td>1800.0</td>\n",
       "      <td>900.0</td>\n",
       "      <td>12.5</td>\n",
       "      <td>1.62</td>\n",
       "      <td>SE</td>\n",
       "      <td>16.86</td>\n",
       "      <td>20.23</td>\n",
       "      <td>https://www.buildingmaterials.co.uk//knauf-fir...</td>\n",
       "    </tr>\n",
       "    <tr>\n",
       "      <th>34</th>\n",
       "      <td>Knauf Fire Panel</td>\n",
       "      <td>2400.0</td>\n",
       "      <td>1200.0</td>\n",
       "      <td>12.5</td>\n",
       "      <td>2.88</td>\n",
       "      <td>TE</td>\n",
       "      <td>10.65</td>\n",
       "      <td>12.78</td>\n",
       "      <td>https://www.buildingmaterials.co.uk//knauf-fir...</td>\n",
       "    </tr>\n",
       "    <tr>\n",
       "      <th>35</th>\n",
       "      <td>Knauf Fire Panel</td>\n",
       "      <td>2400.0</td>\n",
       "      <td>1200.0</td>\n",
       "      <td>15.0</td>\n",
       "      <td>2.88</td>\n",
       "      <td>TE</td>\n",
       "      <td>10.65</td>\n",
       "      <td>12.78</td>\n",
       "      <td>https://www.buildingmaterials.co.uk//knauf-fir...</td>\n",
       "    </tr>\n",
       "    <tr>\n",
       "      <th>36</th>\n",
       "      <td>Knauf Fire Panel</td>\n",
       "      <td>2400.0</td>\n",
       "      <td>1200.0</td>\n",
       "      <td>12.5</td>\n",
       "      <td>2.88</td>\n",
       "      <td>SE</td>\n",
       "      <td>10.65</td>\n",
       "      <td>12.78</td>\n",
       "      <td>https://www.buildingmaterials.co.uk//knauf-fir...</td>\n",
       "    </tr>\n",
       "  </tbody>\n",
       "</table>\n",
       "</div>"
      ],
      "text/plain": [
       "                                     Name  Length (mm)  Width (mm)  \\\n",
       "0   British Gypsum GYPROC Fireline Duplex       2400.0      1200.0   \n",
       "1       British Gypsum GYPROC Fireline MR       3000.0      1200.0   \n",
       "2                         GTEC Fire Board       1800.0       900.0   \n",
       "3                         GTEC Fire Board       1800.0       900.0   \n",
       "4                         GTEC Fire Board       1800.0       900.0   \n",
       "5                         GTEC Fire Board       2400.0      1200.0   \n",
       "6                         GTEC Fire Board       2400.0      1200.0   \n",
       "7                         GTEC Fire Board       2400.0      1200.0   \n",
       "8                         GTEC Fire Board       2700.0      1200.0   \n",
       "9                         GTEC Fire Board       2700.0      1200.0   \n",
       "10                        GTEC Fire Board       3000.0      1200.0   \n",
       "11                        GTEC Fire Board       3000.0      1200.0   \n",
       "12                   GTEC Fire Core Board       3000.0       600.0   \n",
       "13                     GTEC Fire MR Board       2400.0      1200.0   \n",
       "14                     GTEC Fire MR Board       2400.0      1200.0   \n",
       "15                     GTEC Fire MR Board       3000.0      1200.0   \n",
       "16                      GTEC Fire V Board       2400.0      1200.0   \n",
       "17                      GTEC Fire V Board       2400.0      1200.0   \n",
       "18                            GTEC LaDura       2400.0      1200.0   \n",
       "19                            GTEC LaDura       2400.0      1200.0   \n",
       "20                            GTEC LaDura       3000.0      1200.0   \n",
       "21                            GTEC LaDura       3000.0      1200.0   \n",
       "22                          GTEC Megadeco       2400.0      1200.0   \n",
       "23                          GTEC Megadeco       2400.0      1200.0   \n",
       "24                          GTEC Megadeco       2700.0      1200.0   \n",
       "25                          GTEC Megadeco       2700.0      1200.0   \n",
       "26                          GTEC Megadeco       3000.0      1200.0   \n",
       "27                          GTEC Megadeco       3000.0      1200.0   \n",
       "28                   GTEC Universal Board       2400.0      1200.0   \n",
       "29                   GTEC Universal Board       2400.0      1200.0   \n",
       "30                   GTEC Universal Board       2700.0      1200.0   \n",
       "31                   GTEC Universal Board       3000.0      1200.0   \n",
       "32                   GTEC Universal Board       3000.0      1200.0   \n",
       "33                       Knauf Fire Panel       1800.0       900.0   \n",
       "34                       Knauf Fire Panel       2400.0      1200.0   \n",
       "35                       Knauf Fire Panel       2400.0      1200.0   \n",
       "36                       Knauf Fire Panel       2400.0      1200.0   \n",
       "\n",
       "    Thickness (mm)  Area (m^2)     Edge type  Price No VAT (£)  Price VAT (£)  \\\n",
       "0             12.5        2.88  TEPalletof60            948.28        1137.94   \n",
       "1             12.5        3.60            TE             24.88          29.86   \n",
       "2             12.5        1.62            SE              7.23           8.68   \n",
       "3             12.5        1.62            TE              7.23           8.68   \n",
       "4             15.0        1.62            TE              8.68          10.42   \n",
       "5             12.5        2.88            SE             10.32          12.38   \n",
       "6             12.5        2.88            TE             10.32          12.38   \n",
       "7             15.0        2.88            TE             12.17          14.60   \n",
       "8             12.5        3.24            TE             11.62          13.94   \n",
       "9             15.0        3.24            TE             13.69          16.43   \n",
       "10            12.5        3.60            TE             12.90          15.48   \n",
       "11            15.0        3.60            TE             15.21          18.25   \n",
       "12            19.0        1.80            SE             78.11          93.73   \n",
       "13            12.5        2.88            TE             14.24          17.09   \n",
       "14            15.0        2.88            TE             17.74          21.29   \n",
       "15            15.0        3.60            TE             22.18          26.62   \n",
       "16            12.5        2.88            TE             17.46          20.95   \n",
       "17            15.0        2.88            TE             19.19          23.03   \n",
       "18            12.5        2.88            TE             41.50          49.80   \n",
       "19            15.0        2.88            TE             55.08          66.10   \n",
       "20            12.5        3.60            TE             51.86          62.23   \n",
       "21            15.0        3.60            TE             68.85          82.62   \n",
       "22            12.5        2.88            TE             20.29          24.35   \n",
       "23            15.0        2.88            TE             24.23          29.08   \n",
       "24            12.5        3.24            TE             22.82          27.38   \n",
       "25            15.0        3.24            TE             27.26          32.71   \n",
       "26            12.5        3.60            TE             25.35          30.42   \n",
       "27            15.0        3.60            TE             30.30          36.36   \n",
       "28            12.5        2.88            TE             13.35          16.02   \n",
       "29            15.0        2.88            TE             18.57          22.28   \n",
       "30            15.0        3.24            TE             20.89          25.07   \n",
       "31            12.5        3.60            TE             16.70          20.04   \n",
       "32            15.0        3.60            TE             23.21          27.85   \n",
       "33            12.5        1.62            SE             16.86          20.23   \n",
       "34            12.5        2.88            TE             10.65          12.78   \n",
       "35            15.0        2.88            TE             10.65          12.78   \n",
       "36            12.5        2.88            SE             10.65          12.78   \n",
       "\n",
       "                                                 Link  \n",
       "0   https://www.buildingmaterials.co.uk//british-g...  \n",
       "1   https://www.buildingmaterials.co.uk//british-g...  \n",
       "2   https://www.buildingmaterials.co.uk//gtec-fire...  \n",
       "3   https://www.buildingmaterials.co.uk//gtec-fire...  \n",
       "4   https://www.buildingmaterials.co.uk//gtec-fire...  \n",
       "5   https://www.buildingmaterials.co.uk//gtec-fire...  \n",
       "6   https://www.buildingmaterials.co.uk//gtec-fire...  \n",
       "7   https://www.buildingmaterials.co.uk//gtec-fire...  \n",
       "8   https://www.buildingmaterials.co.uk//gtec-fire...  \n",
       "9   https://www.buildingmaterials.co.uk//gtec-fire...  \n",
       "10  https://www.buildingmaterials.co.uk//gtec-fire...  \n",
       "11  https://www.buildingmaterials.co.uk//gtec-fire...  \n",
       "12  https://www.buildingmaterials.co.uk//gtec-fire...  \n",
       "13  https://www.buildingmaterials.co.uk//gtec-fire...  \n",
       "14  https://www.buildingmaterials.co.uk//gtec-fire...  \n",
       "15  https://www.buildingmaterials.co.uk//gtec-fire...  \n",
       "16  https://www.buildingmaterials.co.uk//gtec-fire...  \n",
       "17  https://www.buildingmaterials.co.uk//gtec-fire...  \n",
       "18  https://www.buildingmaterials.co.uk//gtec-ladu...  \n",
       "19  https://www.buildingmaterials.co.uk//gtec-ladu...  \n",
       "20  https://www.buildingmaterials.co.uk//gtec-ladu...  \n",
       "21  https://www.buildingmaterials.co.uk//gtec-ladu...  \n",
       "22  https://www.buildingmaterials.co.uk//gtec-mega...  \n",
       "23  https://www.buildingmaterials.co.uk//gtec-mega...  \n",
       "24  https://www.buildingmaterials.co.uk//gtec-mega...  \n",
       "25  https://www.buildingmaterials.co.uk//gtec-mega...  \n",
       "26  https://www.buildingmaterials.co.uk//gtec-mega...  \n",
       "27  https://www.buildingmaterials.co.uk//gtec-mega...  \n",
       "28  https://www.buildingmaterials.co.uk//gtec-univ...  \n",
       "29  https://www.buildingmaterials.co.uk//gtec-univ...  \n",
       "30  https://www.buildingmaterials.co.uk//gtec-univ...  \n",
       "31  https://www.buildingmaterials.co.uk//gtec-univ...  \n",
       "32  https://www.buildingmaterials.co.uk//gtec-univ...  \n",
       "33  https://www.buildingmaterials.co.uk//knauf-fir...  \n",
       "34  https://www.buildingmaterials.co.uk//knauf-fir...  \n",
       "35  https://www.buildingmaterials.co.uk//knauf-fir...  \n",
       "36  https://www.buildingmaterials.co.uk//knauf-fir...  "
      ]
     },
     "execution_count": 210,
     "metadata": {},
     "output_type": "execute_result"
    }
   ],
   "source": [
    "df"
   ]
  },
  {
   "cell_type": "code",
   "execution_count": 2,
   "metadata": {},
   "outputs": [
    {
     "name": "stdout",
     "output_type": "stream",
     "text": [
      "Processing /Users/omardarwish/Library/Caches/pip/wheels/0a/9e/ba/20e5bbc1afef3a491f0b3bb74d508f99403aabe76eda2167ca/bs4-0.0.1-py3-none-any.whl\n",
      "Collecting selenium\n",
      "  Using cached selenium-3.141.0-py2.py3-none-any.whl (904 kB)\n",
      "Requirement already satisfied: beautifulsoup4 in /Users/omardarwish/opt/anaconda3/lib/python3.7/site-packages (from bs4) (4.8.2)\n",
      "Requirement already satisfied: urllib3 in /Users/omardarwish/opt/anaconda3/lib/python3.7/site-packages (from selenium) (1.25.8)\n",
      "Requirement already satisfied: soupsieve>=1.2 in /Users/omardarwish/opt/anaconda3/lib/python3.7/site-packages (from beautifulsoup4->bs4) (1.9.5)\n",
      "Installing collected packages: bs4, selenium\n",
      "Successfully installed bs4-0.0.1 selenium-3.141.0\n"
     ]
    }
   ],
   "source": [
    "!pip install bs4 selenium"
   ]
  },
  {
   "cell_type": "code",
   "execution_count": 244,
   "metadata": {},
   "outputs": [],
   "source": [
    "import re\n",
    "import pandas as pd"
   ]
  },
  {
   "cell_type": "code",
   "execution_count": 34,
   "metadata": {},
   "outputs": [
    {
     "name": "stderr",
     "output_type": "stream",
     "text": [
      "/Users/omardarwish/opt/anaconda3/lib/python3.7/site-packages/ipykernel_launcher.py:13: DeprecationWarning: use options instead of chrome_options\n",
      "  del sys.path[0]\n"
     ]
    }
   ],
   "source": [
    "import time\n",
    "\n",
    "from selenium import webdriver\n",
    "\n",
    "from selenium.webdriver.support.ui import Select\n",
    "\n",
    "from bs4 import BeautifulSoup\n",
    "\n",
    "options = webdriver.ChromeOptions()\n",
    "options.add_argument('--ignore-certificate-errors')\n",
    "options.add_argument('--incognito')\n",
    "options.add_argument('--headless')\n",
    "driver = webdriver.Chrome(\"/Users/omardarwish/Downloads/chromedriver\", chrome_options = options)"
   ]
  },
  {
   "cell_type": "code",
   "execution_count": 44,
   "metadata": {},
   "outputs": [],
   "source": [
    "url = 'https://www.insulationshop.co/fire_resistant_insulation_buy_online/fire_protection_boards.html'"
   ]
  },
  {
   "cell_type": "code",
   "execution_count": 45,
   "metadata": {},
   "outputs": [],
   "source": [
    "driver.get(url)"
   ]
  },
  {
   "cell_type": "code",
   "execution_count": 55,
   "metadata": {},
   "outputs": [],
   "source": [
    "button = driver.find_element_by_id('input-limit')"
   ]
  },
  {
   "cell_type": "code",
   "execution_count": 64,
   "metadata": {},
   "outputs": [
    {
     "name": "stdout",
     "output_type": "stream",
     "text": [
      "15\n",
      "30\n",
      "45\n",
      "60\n"
     ]
    }
   ],
   "source": [
    "for option in button.find_elements_by_tag_name('option'):\n",
    "    if option.text == '60':\n",
    "        option.click()\n",
    "        break"
   ]
  },
  {
   "cell_type": "code",
   "execution_count": null,
   "metadata": {},
   "outputs": [],
   "source": [
    "driver.find_element_by_id(\"C179003030-ORNL_DAAC-box\").click()\n",
    "driver.find_element_by_id(\"C179003030-ORNL_DAAC-box\").click()\n"
   ]
  },
  {
   "cell_type": "code",
   "execution_count": 74,
   "metadata": {},
   "outputs": [],
   "source": [
    "driver.find_element_by_name(\"manufacturer[12]\").click()"
   ]
  },
  {
   "cell_type": "code",
   "execution_count": 79,
   "metadata": {},
   "outputs": [],
   "source": [
    "driver.find_element_by_name(\"manufacturer[21]\").click()"
   ]
  },
  {
   "cell_type": "code",
   "execution_count": 80,
   "metadata": {},
   "outputs": [],
   "source": [
    "driver.find_element_by_name(\"manufacturer[23]\").click()"
   ]
  },
  {
   "cell_type": "code",
   "execution_count": 81,
   "metadata": {},
   "outputs": [],
   "source": [
    "time.sleep(1)\n",
    "soup = BeautifulSoup(driver.page_source)"
   ]
  },
  {
   "cell_type": "code",
   "execution_count": 82,
   "metadata": {},
   "outputs": [],
   "source": [
    "results = soup.find(id = 'content')"
   ]
  },
  {
   "cell_type": "code",
   "execution_count": 121,
   "metadata": {},
   "outputs": [],
   "source": [
    "products = results.find_all('div', class_ = 'product-layout product-grid col-lg-4 col-md-4 col-sm-6 col-xs-12')"
   ]
  },
  {
   "cell_type": "code",
   "execution_count": 145,
   "metadata": {},
   "outputs": [],
   "source": [
    "product_links = []\n",
    "for a in products:\n",
    "    product_links += [a.find('a', href = True)['href']]"
   ]
  },
  {
   "cell_type": "code",
   "execution_count": 146,
   "metadata": {},
   "outputs": [
    {
     "data": {
      "text/plain": [
       "'https://www.insulationshop.co/promat_monolux_500_fire_protection_board_19.1mm.html'"
      ]
     },
     "execution_count": 146,
     "metadata": {},
     "output_type": "execute_result"
    }
   ],
   "source": [
    "product_links[0]"
   ]
  },
  {
   "cell_type": "code",
   "execution_count": 241,
   "metadata": {
    "scrolled": false
   },
   "outputs": [
    {
     "name": "stdout",
     "output_type": "stream",
     "text": [
      "['299.20', '359.04']\n",
      "['49.87', '59.84']\n",
      "Edge Profile, not present\n",
      "https://www.insulationshop.co/12.5mm_fireshield_wall_board_knauf.html\n",
      "['13.86', '11.55', '13.86']\n",
      "Edge Profile, not present\n",
      "https://www.insulationshop.co/12.5mm_british_gypsum_gyproc_fireline_mr_plasterboard_1200mm_x_3000mm.html\n",
      "Surface Spread of Flame, not present\n",
      "https://www.insulationshop.co/12.5mm_british_gypsum_gyproc_fireline_mr_plasterboard_1200mm_x_3000mm.html\n",
      "['19.31', '23.17']\n",
      "['14.20', '17.04']\n",
      "No price\n",
      "['295.00', '354.00']\n",
      "['226.61', '271.93']\n",
      "['182.60', '152.17', '182.60']\n",
      "Temperature resistance, not present\n",
      "https://www.insulationshop.co/12mm_promat_promafour_fire_resistant_board_1250x1250mm.html\n",
      "Colour, not present\n",
      "https://www.insulationshop.co/12mm_promat_promafour_fire_resistant_board_1250x1250mm.html\n",
      "No price\n",
      "Temperature resistance, not present\n",
      "https://www.insulationshop.co/12mm_promat_promafour_fire_resistant_board_2500x1250mm.html\n",
      "Colour, not present\n",
      "https://www.insulationshop.co/12mm_promat_promafour_fire_resistant_board_2500x1250mm.html\n",
      "['198.94', '238.73']\n",
      "['188.15', '156.79', '188.15']\n",
      "Edge Profile, not present\n",
      "https://www.insulationshop.co/15mm_fireshield_wall_board_knauf.html\n",
      "['16.76', '13.97', '16.76']\n",
      "['49.76', '41.47', '49.76']\n",
      "Edge Profile, not present\n",
      "https://www.insulationshop.co/15mm_british_gypsum_gyproc_fireline_mr_plasterboard_1200mm_x_3000mm.html\n",
      "Surface Spread of Flame, not present\n",
      "https://www.insulationshop.co/15mm_british_gypsum_gyproc_fireline_mr_plasterboard_1200mm_x_3000mm.html\n",
      "['20.99', '25.19']\n",
      "No price\n",
      "['18.80', '22.56']\n",
      "No price\n",
      "Temperature resistance, not present\n",
      "https://www.insulationshop.co/15mm_promat_promafour_fire_resistant_board_1250x1250mm.html\n",
      "Colour, not present\n",
      "https://www.insulationshop.co/15mm_promat_promafour_fire_resistant_board_1250x1250mm.html\n",
      "No price\n",
      "Temperature resistance, not present\n",
      "https://www.insulationshop.co/15mm_promat_promafour_fire_resistant_board_2500x1250mm.html\n",
      "Colour, not present\n",
      "https://www.insulationshop.co/15mm_promat_promafour_fire_resistant_board_2500x1250mm.html\n",
      "No price\n",
      "['222.88', '267.46']\n",
      "Edge Profile, not present\n",
      "https://www.insulationshop.co/19mm_gyproc_coreboard_fireline_moisture_resistant_plasterboard.html\n",
      "Surface Spread of Flame, not present\n",
      "https://www.insulationshop.co/19mm_gyproc_coreboard_fireline_moisture_resistant_plasterboard.html\n",
      "['22.87', '19.06', '22.87']\n",
      "No price\n",
      "['340.82', '408.98']\n",
      "Surface Spread of Flame, not present\n",
      "https://www.insulationshop.co/20mm_promat_promatect_l500_calcium_silicate_board.html\n",
      "No price\n",
      "['381.61', '457.93']\n",
      "['43.22', '51.86']\n",
      "No price\n",
      "No price\n",
      "1 Sheet  coverage, not present\n",
      "https://www.insulationshop.co/30mm_glasroc_f_firecase.html\n",
      "No price\n",
      "No price\n",
      "['382.75', '459.30']\n",
      "Surface Spread of Flame, not present\n",
      "https://www.insulationshop.co/30mm_promat_promatect_l500_calcium_silicate_board.html\n",
      "No price\n",
      "Volume, not present\n",
      "https://www.insulationshop.co/310ml_promafour_glue_1000_fire_protective_glue.html\n",
      "Temperature resistance, not present\n",
      "https://www.insulationshop.co/310ml_promafour_glue_1000_fire_protective_glue.html\n",
      "['12.00', '14.40']\n",
      "Pallet Quantity, not present\n",
      "https://www.insulationshop.co/35mm_promat_promatect_l500_calcium_silicate_board.html\n",
      "Pallet Coverage, not present\n",
      "https://www.insulationshop.co/35mm_promat_promatect_l500_calcium_silicate_board.html\n",
      "Surface Spread of Flame, not present\n",
      "https://www.insulationshop.co/35mm_promat_promatect_l500_calcium_silicate_board.html\n",
      "No price\n",
      "No price\n",
      "Volume, not present\n",
      "https://www.insulationshop.co/3l_promafour_primer_fire_protective_primer.html\n",
      "Temperature resistance, not present\n",
      "https://www.insulationshop.co/3l_promafour_primer_fire_protective_primer.html\n",
      "['86.50', '103.80']\n",
      "Surface Spread of Flame, not present\n",
      "https://www.insulationshop.co/40mm_promat_promatect_l500_calcium_silicate_board.html\n",
      "No price\n",
      "No price\n",
      "['583.94', '700.73']\n",
      "Surface Spread of Flame, not present\n",
      "https://www.insulationshop.co/50mm_promat_promatect_l500_calcium_silicate_board.html\n",
      "No price\n",
      "Surface Spread of Flame, not present\n",
      "https://www.insulationshop.co/52mm_promat_promatect_l500_calcium_silicate_board.html\n",
      "No price\n",
      "['75.61', '63.01', '75.61']\n",
      "['105.50', '87.92', '105.50']\n",
      "['117.64', '98.03', '117.64']\n",
      "['168.04', '140.03', '168.04']\n"
     ]
    }
   ],
   "source": [
    "dictionary = {}\n",
    "\n",
    "dictionary['Name'] = []\n",
    "dictionary['Thickness (mm)'] = []\n",
    "dictionary['Width (mm)'] = []\n",
    "dictionary['Length (mm)'] = []\n",
    "dictionary['Area (m^2)'] = []\n",
    "dictionary['Density (kg/m^3)'] = []\n",
    "dictionary['Weight/m^2 (kg)'] = []\n",
    "dictionary['Weight (kg)'] = []\n",
    "dictionary['Thermal Conductivity (W/mK)'] = []\n",
    "dictionary['Compressive Strength (kPa)'] = []\n",
    "dictionary['Fire Rating (Reaction to Fire)'] = []\n",
    "dictionary['Fire Protection (Resistance to Fire) (min)'] = []\n",
    "dictionary['Price No VAT (£)'] = []\n",
    "dictionary['Price VAT (£)'] = []\n",
    "dictionary['R-Value m2K/W'] = []\n",
    "\n",
    "dictionarycopy = dictionary.copy()\n",
    "for k in dictionary.keys():\n",
    "    dictionarycopy[k] = None\n",
    "\n",
    "tags = {}\n",
    "tags['Thickness'] = 'Thickness (mm)'\n",
    "tags['Width'] = 'Width (mm)'\n",
    "tags['Length'] = 'Length (mm)'\n",
    "tags['Board coverage'] = 'Area (m^2)'\n",
    "tags['Board Coverage'] = 'Area (m^2)'\n",
    "tags['Coverage'] = 'Area (m^2)'\n",
    "tags['Density'] = 'Density (kg/m^3)'\n",
    "tags['Weight/m2'] = 'Weight/m^2 (kg)'\n",
    "tags['Weight'] = 'Weight (kg)'\n",
    "tags['Compressive Strength'] = 'Compressive Strength (kPa)'\n",
    "tags['Thermal Conductivity'] = 'Thermal Conductivity (W/mK)'\n",
    "tags['Fire Rating (Reaction to Fire)'] = 'Fire Rating (Reaction to Fire)'\n",
    "tags['Fire Protection (Resistance to Fire)'] = 'Fire Protection (Resistance to Fire) (min)'\n",
    "tags['R-Value'] = 'R-Value m2K/W'\n",
    "\n",
    "\n",
    "extras_not_listed = []\n",
    "\n",
    "for product_link in product_links:\n",
    "    page = requests.get(product_link)\n",
    "    soup_ = BeautifulSoup(page.content, 'html.parser')\n",
    "    l = soup_.find_all('h1',itemprop=\"name\")\n",
    "    dictionary['Name'] += [l[0].text]\n",
    "    l = soup_.find_all('div', class_ = 'product-attribute')\n",
    "    \n",
    "    dictionarycopycopy = dictionarycopy.copy()\n",
    "    \n",
    "    for item in l:\n",
    "        lista_temp = item.text.replace('\\n', '').replace('mm', '').split(':')\n",
    "        #print(lista_temp[0])\n",
    "        try:\n",
    "            tag = tags[lista_temp[0]]\n",
    "            dictionarycopycopy[tag] = lista_temp[1]\n",
    "        except:\n",
    "            print(f'{lista_temp[0]}, not present')\n",
    "            extras_not_listed += [lista_temp[0]]\n",
    "            print(product_link)\n",
    "            #print(item)\n",
    "            \n",
    "    for k in dictionary.keys():\n",
    "        dictionary[k] += [dictionarycopycopy[k]]\n",
    "    try:\n",
    "        prices = re.findall(r'(?:[,\\d]+.?\\d*)', soup_.find_all('h2', class_ = 'price')[-1].text)\n",
    "        dictionary['Price No VAT (£)'] += [prices[0]]\n",
    "        dictionary['Price VAT (£)'] += [prices[1]]\n",
    "        print(re.findall(r'(?:[,\\d]+.?\\d*)', soup_.find_all('h2', class_ = 'price')[-1].text))\n",
    "    except:\n",
    "        print('No price')\n",
    "        \n",
    "        \n",
    "    \n",
    "    time.sleep(1)\n",
    "    \n",
    "    \n",
    "extras_not_listed = list(set(extras_not_listed))"
   ]
  },
  {
   "cell_type": "code",
   "execution_count": 242,
   "metadata": {},
   "outputs": [
    {
     "name": "stdout",
     "output_type": "stream",
     "text": [
      "Ignored the following ['1 Sheet  coverage', 'Pallet Coverage', 'Volume', 'Edge Profile', 'Surface Spread of Flame', 'Colour', 'Pallet Quantity', 'Temperature resistance']\n"
     ]
    }
   ],
   "source": [
    "print(f'Ignored the following {extras_not_listed}')"
   ]
  },
  {
   "cell_type": "code",
   "execution_count": 247,
   "metadata": {},
   "outputs": [
    {
     "name": "stdout",
     "output_type": "stream",
     "text": [
      "92\n",
      "46\n",
      "46\n",
      "46\n",
      "46\n",
      "46\n",
      "46\n",
      "46\n",
      "46\n",
      "46\n",
      "46\n",
      "46\n",
      "73\n",
      "73\n",
      "46\n"
     ]
    }
   ],
   "source": [
    "for k, i in dictionary.items():\n",
    "    print(len(i))"
   ]
  },
  {
   "cell_type": "code",
   "execution_count": 245,
   "metadata": {},
   "outputs": [
    {
     "ename": "ValueError",
     "evalue": "arrays must all be same length",
     "output_type": "error",
     "traceback": [
      "\u001b[0;31m---------------------------------------------------------------------------\u001b[0m",
      "\u001b[0;31mValueError\u001b[0m                                Traceback (most recent call last)",
      "\u001b[0;32m<ipython-input-245-e0da3e7e60d5>\u001b[0m in \u001b[0;36m<module>\u001b[0;34m\u001b[0m\n\u001b[0;32m----> 1\u001b[0;31m \u001b[0mdf\u001b[0m \u001b[0;34m=\u001b[0m \u001b[0mpd\u001b[0m\u001b[0;34m.\u001b[0m\u001b[0mDataFrame\u001b[0m\u001b[0;34m(\u001b[0m\u001b[0mdata\u001b[0m \u001b[0;34m=\u001b[0m \u001b[0mdictionary\u001b[0m\u001b[0;34m)\u001b[0m\u001b[0;34m\u001b[0m\u001b[0;34m\u001b[0m\u001b[0m\n\u001b[0m",
      "\u001b[0;32m~/opt/anaconda3/lib/python3.7/site-packages/pandas/core/frame.py\u001b[0m in \u001b[0;36m__init__\u001b[0;34m(self, data, index, columns, dtype, copy)\u001b[0m\n\u001b[1;32m    433\u001b[0m             )\n\u001b[1;32m    434\u001b[0m         \u001b[0;32melif\u001b[0m \u001b[0misinstance\u001b[0m\u001b[0;34m(\u001b[0m\u001b[0mdata\u001b[0m\u001b[0;34m,\u001b[0m \u001b[0mdict\u001b[0m\u001b[0;34m)\u001b[0m\u001b[0;34m:\u001b[0m\u001b[0;34m\u001b[0m\u001b[0;34m\u001b[0m\u001b[0m\n\u001b[0;32m--> 435\u001b[0;31m             \u001b[0mmgr\u001b[0m \u001b[0;34m=\u001b[0m \u001b[0minit_dict\u001b[0m\u001b[0;34m(\u001b[0m\u001b[0mdata\u001b[0m\u001b[0;34m,\u001b[0m \u001b[0mindex\u001b[0m\u001b[0;34m,\u001b[0m \u001b[0mcolumns\u001b[0m\u001b[0;34m,\u001b[0m \u001b[0mdtype\u001b[0m\u001b[0;34m=\u001b[0m\u001b[0mdtype\u001b[0m\u001b[0;34m)\u001b[0m\u001b[0;34m\u001b[0m\u001b[0;34m\u001b[0m\u001b[0m\n\u001b[0m\u001b[1;32m    436\u001b[0m         \u001b[0;32melif\u001b[0m \u001b[0misinstance\u001b[0m\u001b[0;34m(\u001b[0m\u001b[0mdata\u001b[0m\u001b[0;34m,\u001b[0m \u001b[0mma\u001b[0m\u001b[0;34m.\u001b[0m\u001b[0mMaskedArray\u001b[0m\u001b[0;34m)\u001b[0m\u001b[0;34m:\u001b[0m\u001b[0;34m\u001b[0m\u001b[0;34m\u001b[0m\u001b[0m\n\u001b[1;32m    437\u001b[0m             \u001b[0;32mimport\u001b[0m \u001b[0mnumpy\u001b[0m\u001b[0;34m.\u001b[0m\u001b[0mma\u001b[0m\u001b[0;34m.\u001b[0m\u001b[0mmrecords\u001b[0m \u001b[0;32mas\u001b[0m \u001b[0mmrecords\u001b[0m\u001b[0;34m\u001b[0m\u001b[0;34m\u001b[0m\u001b[0m\n",
      "\u001b[0;32m~/opt/anaconda3/lib/python3.7/site-packages/pandas/core/internals/construction.py\u001b[0m in \u001b[0;36minit_dict\u001b[0;34m(data, index, columns, dtype)\u001b[0m\n\u001b[1;32m    252\u001b[0m             \u001b[0marr\u001b[0m \u001b[0;32mif\u001b[0m \u001b[0;32mnot\u001b[0m \u001b[0mis_datetime64tz_dtype\u001b[0m\u001b[0;34m(\u001b[0m\u001b[0marr\u001b[0m\u001b[0;34m)\u001b[0m \u001b[0;32melse\u001b[0m \u001b[0marr\u001b[0m\u001b[0;34m.\u001b[0m\u001b[0mcopy\u001b[0m\u001b[0;34m(\u001b[0m\u001b[0;34m)\u001b[0m \u001b[0;32mfor\u001b[0m \u001b[0marr\u001b[0m \u001b[0;32min\u001b[0m \u001b[0marrays\u001b[0m\u001b[0;34m\u001b[0m\u001b[0;34m\u001b[0m\u001b[0m\n\u001b[1;32m    253\u001b[0m         ]\n\u001b[0;32m--> 254\u001b[0;31m     \u001b[0;32mreturn\u001b[0m \u001b[0marrays_to_mgr\u001b[0m\u001b[0;34m(\u001b[0m\u001b[0marrays\u001b[0m\u001b[0;34m,\u001b[0m \u001b[0mdata_names\u001b[0m\u001b[0;34m,\u001b[0m \u001b[0mindex\u001b[0m\u001b[0;34m,\u001b[0m \u001b[0mcolumns\u001b[0m\u001b[0;34m,\u001b[0m \u001b[0mdtype\u001b[0m\u001b[0;34m=\u001b[0m\u001b[0mdtype\u001b[0m\u001b[0;34m)\u001b[0m\u001b[0;34m\u001b[0m\u001b[0;34m\u001b[0m\u001b[0m\n\u001b[0m\u001b[1;32m    255\u001b[0m \u001b[0;34m\u001b[0m\u001b[0m\n\u001b[1;32m    256\u001b[0m \u001b[0;34m\u001b[0m\u001b[0m\n",
      "\u001b[0;32m~/opt/anaconda3/lib/python3.7/site-packages/pandas/core/internals/construction.py\u001b[0m in \u001b[0;36marrays_to_mgr\u001b[0;34m(arrays, arr_names, index, columns, dtype)\u001b[0m\n\u001b[1;32m     62\u001b[0m     \u001b[0;31m# figure out the index, if necessary\u001b[0m\u001b[0;34m\u001b[0m\u001b[0;34m\u001b[0m\u001b[0;34m\u001b[0m\u001b[0m\n\u001b[1;32m     63\u001b[0m     \u001b[0;32mif\u001b[0m \u001b[0mindex\u001b[0m \u001b[0;32mis\u001b[0m \u001b[0;32mNone\u001b[0m\u001b[0;34m:\u001b[0m\u001b[0;34m\u001b[0m\u001b[0;34m\u001b[0m\u001b[0m\n\u001b[0;32m---> 64\u001b[0;31m         \u001b[0mindex\u001b[0m \u001b[0;34m=\u001b[0m \u001b[0mextract_index\u001b[0m\u001b[0;34m(\u001b[0m\u001b[0marrays\u001b[0m\u001b[0;34m)\u001b[0m\u001b[0;34m\u001b[0m\u001b[0;34m\u001b[0m\u001b[0m\n\u001b[0m\u001b[1;32m     65\u001b[0m     \u001b[0;32melse\u001b[0m\u001b[0;34m:\u001b[0m\u001b[0;34m\u001b[0m\u001b[0;34m\u001b[0m\u001b[0m\n\u001b[1;32m     66\u001b[0m         \u001b[0mindex\u001b[0m \u001b[0;34m=\u001b[0m \u001b[0mensure_index\u001b[0m\u001b[0;34m(\u001b[0m\u001b[0mindex\u001b[0m\u001b[0;34m)\u001b[0m\u001b[0;34m\u001b[0m\u001b[0;34m\u001b[0m\u001b[0m\n",
      "\u001b[0;32m~/opt/anaconda3/lib/python3.7/site-packages/pandas/core/internals/construction.py\u001b[0m in \u001b[0;36mextract_index\u001b[0;34m(data)\u001b[0m\n\u001b[1;32m    363\u001b[0m             \u001b[0mlengths\u001b[0m \u001b[0;34m=\u001b[0m \u001b[0mlist\u001b[0m\u001b[0;34m(\u001b[0m\u001b[0mset\u001b[0m\u001b[0;34m(\u001b[0m\u001b[0mraw_lengths\u001b[0m\u001b[0;34m)\u001b[0m\u001b[0;34m)\u001b[0m\u001b[0;34m\u001b[0m\u001b[0;34m\u001b[0m\u001b[0m\n\u001b[1;32m    364\u001b[0m             \u001b[0;32mif\u001b[0m \u001b[0mlen\u001b[0m\u001b[0;34m(\u001b[0m\u001b[0mlengths\u001b[0m\u001b[0;34m)\u001b[0m \u001b[0;34m>\u001b[0m \u001b[0;36m1\u001b[0m\u001b[0;34m:\u001b[0m\u001b[0;34m\u001b[0m\u001b[0;34m\u001b[0m\u001b[0m\n\u001b[0;32m--> 365\u001b[0;31m                 \u001b[0;32mraise\u001b[0m \u001b[0mValueError\u001b[0m\u001b[0;34m(\u001b[0m\u001b[0;34m\"arrays must all be same length\"\u001b[0m\u001b[0;34m)\u001b[0m\u001b[0;34m\u001b[0m\u001b[0;34m\u001b[0m\u001b[0m\n\u001b[0m\u001b[1;32m    366\u001b[0m \u001b[0;34m\u001b[0m\u001b[0m\n\u001b[1;32m    367\u001b[0m             \u001b[0;32mif\u001b[0m \u001b[0mhave_dicts\u001b[0m\u001b[0;34m:\u001b[0m\u001b[0;34m\u001b[0m\u001b[0;34m\u001b[0m\u001b[0m\n",
      "\u001b[0;31mValueError\u001b[0m: arrays must all be same length"
     ]
    }
   ],
   "source": [
    "df = pd.DataFrame(data = dictionary)\n"
   ]
  },
  {
   "cell_type": "code",
   "execution_count": null,
   "metadata": {},
   "outputs": [],
   "source": [
    "df.to_csv('scrapedv1')"
   ]
  },
  {
   "cell_type": "code",
   "execution_count": 230,
   "metadata": {},
   "outputs": [
    {
     "data": {
      "text/plain": [
       "'https://www.insulationshop.co/12.5mm_fireshield_wall_board_knauf.html'"
      ]
     },
     "execution_count": 230,
     "metadata": {},
     "output_type": "execute_result"
    }
   ],
   "source": [
    "product_link"
   ]
  },
  {
   "cell_type": "code",
   "execution_count": 206,
   "metadata": {},
   "outputs": [
    {
     "data": {
      "text/plain": [
       "'https://www.insulationshop.co/12.5mm_knauf_performance_plus_1200_x_3000.html'"
      ]
     },
     "execution_count": 206,
     "metadata": {},
     "output_type": "execute_result"
    }
   ],
   "source": [
    "product_link"
   ]
  },
  {
   "cell_type": "code",
   "execution_count": 205,
   "metadata": {},
   "outputs": [
    {
     "data": {
      "text/plain": [
       "[]"
      ]
     },
     "execution_count": 205,
     "metadata": {},
     "output_type": "execute_result"
    }
   ],
   "source": [
    "soup_.find_all('h2', class_ = 'price')"
   ]
  },
  {
   "cell_type": "code",
   "execution_count": 167,
   "metadata": {},
   "outputs": [],
   "source": [
    "l = soup_.find_all('div', class_ = 'product-attribute')"
   ]
  },
  {
   "cell_type": "code",
   "execution_count": 225,
   "metadata": {},
   "outputs": [
    {
     "data": {
      "text/plain": [
       "[<div class=\"product-attribute\">\n",
       " <div><strong>Thickness</strong>: 25.4mm</div>\n",
       " </div>,\n",
       " <div class=\"product-attribute\">\n",
       " <div><strong>Width</strong>: 1220mm</div>\n",
       " </div>,\n",
       " <div class=\"product-attribute\">\n",
       " <div><strong>Length</strong>: 2440mm</div>\n",
       " </div>,\n",
       " <div class=\"product-attribute\">\n",
       " <div><strong>Board coverage</strong>: 2.98m<sup>2</sup></div>\n",
       " </div>,\n",
       " <div class=\"product-attribute\">\n",
       " <div><strong>Density</strong>: 750kg/m<sup>3</sup></div>\n",
       " </div>,\n",
       " <div class=\"product-attribute\">\n",
       " <div><strong>Weight/m<sup>2</sup></strong>: 19.05kg</div>\n",
       " </div>,\n",
       " <div class=\"product-attribute\">\n",
       " <div><strong>Weight</strong>: 56.71kg</div>\n",
       " </div>,\n",
       " <div class=\"product-attribute\">\n",
       " <div><strong>Thermal Conductivity</strong>: 0.180W/mK</div>\n",
       " </div>,\n",
       " <div class=\"product-attribute\">\n",
       " <div><strong>Compressive Strength</strong>: 13000kPa</div>\n",
       " </div>,\n",
       " <div class=\"product-attribute\">\n",
       " <div><strong>Fire Rating (Reaction to Fire)</strong>: A1(Non-combustible)</div>\n",
       " </div>,\n",
       " <div class=\"product-attribute\">\n",
       " <div><strong>Fire Protection (Resistance to Fire)</strong>: 240minutes</div>\n",
       " </div>]"
      ]
     },
     "execution_count": 225,
     "metadata": {},
     "output_type": "execute_result"
    }
   ],
   "source": [
    "l"
   ]
  },
  {
   "cell_type": "code",
   "execution_count": 226,
   "metadata": {},
   "outputs": [
    {
     "name": "stdout",
     "output_type": "stream",
     "text": [
      "['Thickness', ' 25.4']\n",
      "['Width', ' 1220']\n",
      "['Length', ' 2440']\n",
      "['Board coverage', ' 2.98m2']\n",
      "['Density', ' 750kg/m3']\n",
      "['Weight/m2', ' 19.05kg']\n",
      "['Weight', ' 56.71kg']\n",
      "['Thermal Conductivity', ' 0.180W/mK']\n",
      "['Compressive Strength', ' 13000kPa']\n",
      "['Fire Rating (Reaction to Fire)', ' A1(Non-combustible)']\n",
      "['Fire Protection (Resistance to Fire)', ' 240minutes']\n"
     ]
    }
   ],
   "source": [
    "for item in l:\n",
    "    print(item.text.replace('\\n', '').replace('mm', '').split(':'))"
   ]
  },
  {
   "cell_type": "code",
   "execution_count": 213,
   "metadata": {},
   "outputs": [
    {
     "data": {
      "text/plain": [
       "['Price: ', '49.87 (', '59.84 inc VAT)']"
      ]
     },
     "execution_count": 213,
     "metadata": {},
     "output_type": "execute_result"
    }
   ],
   "source": [
    "lstringa = soup_.find_all('h2', class_ = 'price')[-1].text.split('£')\n",
    "for j, s in enumerate(lstringa):\n",
    "    lstringa[j] = s.replace()strip()"
   ]
  },
  {
   "cell_type": "code",
   "execution_count": 191,
   "metadata": {},
   "outputs": [
    {
     "data": {
      "text/plain": [
       "[<span class=\"hidden\" itemprop=\"price\">359.04</span>]"
      ]
     },
     "execution_count": 191,
     "metadata": {},
     "output_type": "execute_result"
    }
   ],
   "source": [
    "soup_.find_all('span', itemprop = 'price')"
   ]
  },
  {
   "cell_type": "code",
   "execution_count": 214,
   "metadata": {},
   "outputs": [
    {
     "data": {
      "text/plain": [
       "'price'"
      ]
     },
     "execution_count": 214,
     "metadata": {},
     "output_type": "execute_result"
    }
   ],
   "source": [
    "'price '.strip()"
   ]
  },
  {
   "cell_type": "code",
   "execution_count": 215,
   "metadata": {},
   "outputs": [
    {
     "data": {
      "text/plain": [
       "'Price: £49.87 (£59.84 inc VAT)'"
      ]
     },
     "execution_count": 215,
     "metadata": {},
     "output_type": "execute_result"
    }
   ],
   "source": [
    "soup_.find_all('h2', class_ = 'price')[-1].text"
   ]
  },
  {
   "cell_type": "code",
   "execution_count": 222,
   "metadata": {},
   "outputs": [
    {
     "data": {
      "text/plain": [
       "['49.87', '59.84']"
      ]
     },
     "execution_count": 222,
     "metadata": {},
     "output_type": "execute_result"
    }
   ],
   "source": [
    "re.findall(r'(?:[,\\d]+.?\\d*)', soup_.find_all('h2', class_ = 'price')[-1].text)"
   ]
  },
  {
   "cell_type": "code",
   "execution_count": null,
   "metadata": {},
   "outputs": [],
   "source": []
  }
 ],
 "metadata": {
  "kernelspec": {
   "display_name": "Python 3",
   "language": "python",
   "name": "python3"
  },
  "language_info": {
   "codemirror_mode": {
    "name": "ipython",
    "version": 3
   },
   "file_extension": ".py",
   "mimetype": "text/x-python",
   "name": "python",
   "nbconvert_exporter": "python",
   "pygments_lexer": "ipython3",
   "version": "3.7.6"
  }
 },
 "nbformat": 4,
 "nbformat_minor": 4
}
